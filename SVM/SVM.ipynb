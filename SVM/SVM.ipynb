{
  "cells": [
    {
      "cell_type": "code",
      "execution_count": 9,
      "metadata": {
        "id": "Pap2rzwpT4w_"
      },
      "outputs": [],
      "source": [
        "import numpy # библиотека, которая поддерживает многомерные массивы и математические функции\n",
        "from sklearn import datasets # datasets - модуль, который содержит наборы данных sklearn\n",
        "import pandas # библиотека для анализа данных\n",
        "import matplotlib.pyplot as plt # модуль в библиотеке matplotlip, который позволяет создавать графики и визуализировать данные в python 3\n",
        "from sklearn.model_selection import train_test_split # импортируем из библиотеки  sklearn функцию train_test_split"
      ]
    },
    {
      "cell_type": "markdown",
      "metadata": {
        "id": "q_XaQtjKUSKM"
      },
      "source": [
        "Рукописный класс, реализующий метод опорных векторов (Support Vector Machine)"
      ]
    },
    {
      "cell_type": "code",
      "execution_count": 10,
      "metadata": {
        "id": "11y_npHsUWfV"
      },
      "outputs": [],
      "source": [
        "class SVM:\n",
        "  def __init__(self):\n",
        "    # Конструктор, который используется для инициализации объектов\n",
        "    # Инициализируем веса и смещение как пустые значения\n",
        "    self.weights = None\n",
        "    self.bias = None\n",
        "\n",
        "  def fit(self, X, y):\n",
        "    # Извлечение количества образцов и признаков из входных данных X\n",
        "    # Здесь samples - количество образцов (наблюдений) в тренировочной выборке,\n",
        "    # _ обозначает пустую переменную\n",
        "    # shape возвращает размерность масссива (в нашем случае 100*2), для двумерного массива два параметра. Переменная _ не используется, так как нам унжно первое значение\n",
        "    samples, _ = X.shape\n",
        "    # Отбираем точки классов\n",
        "    first_point = X[numpy.where(y==1)[0]][0] # одну первого класса\n",
        "    second_point = numpy.array([X[numpy.where(y==-1)[0]][0], X[numpy.where(y==-1)[0]][1]]) # две точки второго класса\n",
        "    # Инициализируем переменные weights и bias\n",
        "    self.weights = second_point[1] - second_point[0] # рисуем прямую между двумя точками второго класса, определяющую степень наклона гиперплоскости\n",
        "    self.bias = -numpy.dot(self.weights, first_point) # находим смещение по y\n",
        "    # weights представляют веса модели, которые будут обновляться\n",
        "    # bias - это смещение (intercept) модели, также инициализированное нулем\n",
        "\n",
        "    # Цикл нахождения точного расположения гиперплоскости, до тех пор, пока она не будет точно классифицировать все точки\n",
        "    while True:\n",
        "      false_class = 0 # параметр, характеризующий  количество неправильно классифицированных точек относительно гиперплоскости\n",
        "      # цикл по наблюдениям до тех пор, пока точки не классифицируются верно\n",
        "      for i in range(samples):\n",
        "        # Мы проверяем при помощи условия точки, которые классифицированы неверно\n",
        "        # и добавляем единицу при каждой провальной попытке до того пока не найдем верный вариант\n",
        "        if y[i] * (numpy.dot(X[i], self.weights) + self.bias) <= 0:\n",
        "          # Если state равно True, то происходит следующее обновление\n",
        "          self.weights += y[i] * X[i]\n",
        "          self.bias += y[i]\n",
        "          false_class +=1\n",
        "      if false_class == 0: # если все точки верно классифицированы, то гиперплоскость найдена, поэтому прерываем\n",
        "        break\n",
        "  def predict(self, X):\n",
        "    # Метод, выполняющий предсказания меток классов для новых данных Х на основе обученной модели\n",
        "    # Вычисление линейной комбинации весов и входных данных.\n",
        "    #Здесь numpy.dot(X, self.weights) представляет собой скалярное произведение матрицы признаков X и весов модели self.weights.\n",
        "    #Затем добавляется смещение self.bias. В результате получается значение линейной комбинации.\n",
        "    predictions = numpy.sign(numpy.dot(X, self.weights) + self.bias) #Функция numpy.sign()\n",
        "    # возвращает знак числа: 1, если число положительное, -1, если отрицательное, и 0, если число равно нулю.\n",
        "    # В данном случае, она применяется к результату линейной комбинации.\n",
        "    return predictions # Метод возвращает предсказанные метки классов для входных данных X\n",
        "  def paint_function(self, X, y):\n",
        "    #Функция, которая рисует график. cmap - цвета точек, marker - форма точек\n",
        "    scatter = plt.scatter(X[:, 0], X[:, 1], c=y, cmap = 'coolwarm', marker = 'o', edgecolors = 'black')\n",
        "    # Генерация 100 равномерно распределенных значений между минимальным и максимальным значениями признака 1\n",
        "    Ox = numpy.linspace(X[:, 0].min(), X[:, 0].max(), 100)\n",
        "    # Вычисление значений признака 2 для прямой, определенной параметрами весов и смещения SVM\n",
        "    Oy = -(self.weights[0] * Ox + self.bias) / self.weights[1]\n",
        "    plt.plot(Ox, Oy, color = 'black') # Рисуем прямую по параметрам (оси, цвет)\n",
        "    plt.title('Результат работы SVM для бинарной классификации') # Заголовок графика\n",
        "    # Подписи осей\n",
        "    plt.xlabel('Признак 1')\n",
        "    plt.ylabel('Признак 2')\n",
        "    plt.show() # Отображение"
      ]
    },
    {
      "cell_type": "code",
      "execution_count": 11,
      "metadata": {
        "colab": {
          "base_uri": "https://localhost:8080/"
        },
        "id": "sdyRWlvfsu9y",
        "outputId": "f260525e-38e7-4c5b-f1d8-a3fb3cda8815"
      },
      "outputs": [
        {
          "name": "stdout",
          "output_type": "stream",
          "text": [
            "   Unnamed: 0         X         Y  метка_класса\n",
            "0           0  8.649313  8.631379            -1\n",
            "1           1  8.469598  4.891620            -1\n",
            "2           2  7.313700  1.455105             1\n",
            "3           3  8.957509  9.938225            -1\n",
            "4           4  3.016588  7.537460            -1\n"
          ]
        }
      ],
      "source": [
        "import pandas\n",
        "import numpy\n",
        "# Проверка работы класса на датасете с моей фамилией. Датасет зашружаю при помощи файловой системы google colab\n",
        "my_datasetname = pandas.read_csv(\"Rubashevskaya.csv\") # Читаем датасет\n",
        "print(my_datasetname.head()) # Просмотр датасета\n",
        "my_datasetname = my_datasetname.drop(columns = my_datasetname.columns[0]) # Удаляем столбец с нумерацией (unnamed)\n",
        "# Датасет оформляем как словарь с двумя ключами: data и target\n",
        "dict_data = {'data': my_datasetname[[my_datasetname.columns[0], my_datasetname.columns[1]]].to_numpy(), # массив из первых двух столбцов(X,Y)\n",
        "             'target': my_datasetname[my_datasetname.columns[2]].to_numpy(dtype = numpy.int32)} #массив, содержащий третий столбец(метки класса)\n"
      ]
    },
    {
      "cell_type": "code",
      "execution_count": 17,
      "metadata": {
        "colab": {
          "base_uri": "https://localhost:8080/",
          "height": 507
        },
        "id": "KytDBn0XqZH3",
        "outputId": "6da4783d-1336-4bc4-c877-7159d0ad420e"
      },
      "outputs": [
        {
          "name": "stdout",
          "output_type": "stream",
          "text": [
            "-------------------------------------------------------------------------\n",
            "96.66666666666667 %\n"
          ]
        },
        {
          "data": {
            "image/png": "[encoded data removed]",
            "text/plain": [
              "<Figure size 640x480 with 1 Axes>"
            ]
          },
          "metadata": {},
          "output_type": "display_data"
        }
      ],
      "source": [
        "# Разделение на обучающую и тестовую выборки\n",
        "X_train, X_test, Y_train, Y_test = train_test_split(dict_data['data'],dict_data['target'], test_size = 0.3)\n",
        "# 30% - тестирование (проверка результатов обучения машины); 70% - тренировка (уйдет на обучение машины)\n",
        "# Создание и обучение модели\n",
        "svc = SVM() # применяем наш рукописный класс\n",
        "svc.fit(X_train, Y_train) # обучаем модель\n",
        "rightness =  ((numpy.sum(svc.predict(X_test) == Y_test)) / Y_test.size) * 100 # считаем точность (уравнение прямой)\n",
        "# На этом этапе мы имеет от predict'а набор предсказаний теста, которые сравниваются с фактическими значениями\n",
        "print(\"-------------------------------------------------------------------------\")\n",
        "print(rightness,'%')\n",
        "svc.paint_function(X_train, Y_train) #применяем функцию для рисования графика"
      ]
    },
    {
      "cell_type": "markdown",
      "metadata": {
        "id": "eZ5PEtKYSv_F"
      },
      "source": [
        "# ** 2**"
      ]
    },
    {
      "cell_type": "code",
      "execution_count": 13,
      "metadata": {
        "id": "zSqaeNyZSUyc"
      },
      "outputs": [],
      "source": [
        "from sklearn import svm # встроенный метод опорных векторов\n",
        "import numpy # библиотека, которая поддерживает многомерные массивы и математические функции\n",
        "from sklearn import datasets # модуль, который содержит наборы данных Sklearn(мы с ними будем работать)\n",
        "import pandas #библиотека для анализа данных\n",
        "from sklearn.model_selection import train_test_split # импортируем из библиотеки sklearn функцию train_test_split"
      ]
    },
    {
      "cell_type": "code",
      "execution_count": 14,
      "metadata": {
        "colab": {
          "base_uri": "https://localhost:8080/"
        },
        "id": "A7QqaEKBTKFk",
        "outputId": "1f5c3c90-2d7f-46d4-99b3-12994fdf31d6"
      },
      "outputs": [
        {
          "name": "stdout",
          "output_type": "stream",
          "text": [
            "Iris plants dataset - Набор данных о растениях ириса\n",
            "Wine recognition dataset - Набор данных для распознавания вин\n",
            "Breast cancer wisconsin (diagnostic) dataset - Набор данных по раку молочной железы в Висконсине (диагностический)\n",
            "Optical recognition of handwritten digits dataset - Оптическое распознавание набора данных рукописных цифр\n",
            "Датасет с моей фамилией\n",
            "~~~~~~~~~~~~~~~~~~~~~~~~~~~~~~~~~~~~~~~~~~~~~~~~~~~~~~~~~~~~~~~~~~~~~~~~~\n",
            "------------------------------------------------------------------------\n",
            "Датасет:  Breast cancer wisconsin (diagnostic) dataset\n",
            "------------------------------------------------------------------------\n",
            "При ядре linear точность:  97.076023%\n",
            " \n",
            "Лучший результат при ядре linear - 97.0760\n",
            "При ядре poly точность:  91.228070%\n",
            " \n",
            "Лучший результат при ядре linear - 97.0760\n",
            "При ядре rbf точность:  93.567251%\n",
            " \n",
            "Лучший результат при ядре linear - 97.0760\n",
            "При ядре sigmoid точность:  38.596491%\n",
            " \n",
            "Лучший результат при ядре linear - 97.0760\n",
            "------------------------------------------------------------------------\n",
            "Датасет:  Iris plants dataset\n",
            "------------------------------------------------------------------------\n",
            "При ядре linear точность:  95.555556%\n",
            " \n",
            "Лучший результат при ядре linear - 95.5556\n",
            "При ядре poly точность:  95.555556%\n",
            " \n",
            "Лучший результат при ядре linear - 95.5556\n",
            "При ядре rbf точность:  95.555556%\n",
            " \n",
            "Лучший результат при ядре linear - 95.5556\n",
            "При ядре sigmoid точность:  4.444444%\n",
            " \n",
            "Лучший результат при ядре linear - 95.5556\n",
            "------------------------------------------------------------------------\n",
            "Датасет:  Wine recognition dataset\n",
            "------------------------------------------------------------------------\n",
            "При ядре linear точность:  96.296296%\n",
            " \n",
            "Лучший результат при ядре linear - 96.2963\n",
            "При ядре poly точность:  83.333333%\n",
            " \n",
            "Лучший результат при ядре linear - 96.2963\n",
            "При ядре rbf точность:  90.740741%\n",
            " \n",
            "Лучший результат при ядре linear - 96.2963\n",
            "При ядре sigmoid точность:  22.222222%\n",
            " \n",
            "Лучший результат при ядре linear - 96.2963\n",
            "------------------------------------------------------------------------\n",
            "Датасет:  Optical recognition of handwritten digits dataset\n",
            "------------------------------------------------------------------------\n",
            "При ядре linear точность:  97.777778%\n",
            " \n",
            "Лучший результат при ядре linear - 97.7778\n",
            "При ядре poly точность:  98.333333%\n",
            " \n",
            "Лучший результат при ядре poly - 98.3333\n",
            "При ядре rbf точность:  98.518519%\n",
            " \n",
            "Лучший результат при ядре rbf - 98.5185\n",
            "При ядре sigmoid точность:  74.629630%\n",
            " \n",
            "Лучший результат при ядре rbf - 98.5185\n",
            "------------------------------------------------------------------------\n",
            "Датасет:  Датасет с моей фамилией\n",
            "------------------------------------------------------------------------\n",
            "При ядре linear точность:  100.000000%\n",
            " \n",
            "Лучший результат при ядре linear - 100.0000\n",
            "При ядре poly точность:  100.000000%\n",
            " \n",
            "Лучший результат при ядре linear - 100.0000\n",
            "При ядре rbf точность:  100.000000%\n",
            " \n",
            "Лучший результат при ядре linear - 100.0000\n",
            "При ядре sigmoid точность:  20.000000%\n",
            " \n",
            "Лучший результат при ядре linear - 100.0000\n"
          ]
        }
      ],
      "source": [
        "# Чтение датасета с моей фамилией\n",
        "my_datasetname = pandas.read_csv(\"Rubashevskaya.csv\")\n",
        "my_datasetname = my_datasetname.drop(columns = my_datasetname.columns[0])\n",
        "dict_data = {'data': my_datasetname[[my_datasetname.columns[0], my_datasetname.columns[1]]].to_numpy(),\n",
        "             'target': my_datasetname[my_datasetname.columns[2]].to_numpy(dtype = numpy.int32),\n",
        "             'DESCR': '\\n\\nДатасет с моей фамилией'}\n",
        "# Загрузка датасетов\n",
        "data_arr = [datasets.load_breast_cancer(), datasets.load_iris(), datasets.load_wine(), datasets.load_digits(), dict_data]\n",
        "print(\"Iris plants dataset - Набор данных о растениях ириса\\nWine recognition dataset - Набор данных для распознавания вин\\nBreast cancer wisconsin (diagnostic) dataset - Набор данных по раку молочной железы в Висконсине (диагностический)\\nOptical recognition of handwritten digits dataset - Оптическое распознавание набора данных рукописных цифр\\nДатасет с моей фамилией\")\n",
        "print(\"~~~~~~~~~~~~~~~~~~~~~~~~~~~~~~~~~~~~~~~~~~~~~~~~~~~~~~~~~~~~~~~~~~~~~~~~~\")\n",
        "Cores = [\"linear\",\"poly\",\"rbf\",\"sigmoid\"] # Названия ядер\n",
        "for dataset in data_arr:                     # Цикл прогона по 5 датасетам\n",
        " # data = dataset() # Присвоение переменной data набор данных определенного датасета\n",
        "  print(\"------------------------------------------------------------------------\")\n",
        "  print(\"Датасет: \", dataset['DESCR'].splitlines()[2])\n",
        "  # атрибут DESCR - это строковая переменная или объект, которая, предположительно, содержит несколько строк текста.\n",
        "  #.splitlines() - это метод строкового объекта, который разбивает строку на список строк, используя символы новой строки (перевода строки) в качестве разделителя.\n",
        "  # [2] - это индексация списка, которая выбирает третью строку (от 0, поэтому [2] выберет третий элемент).\n",
        "  print(\"------------------------------------------------------------------------\")\n",
        "  best_accuracy = numpy.array([])\n",
        "  # разделим данные с помощью train_test_split\n",
        "  # 70% - тренировка (уйдет на обучение машины); 30% - тестирование (проверка результатов обучения машины)\n",
        "  X_train, X_test, Y_train, Y_test = train_test_split(dataset['data'], dataset['target'], test_size = 0.3)\n",
        "# Цикл прогона по ядрам\n",
        "  for core in Cores:\n",
        "    svc = svm.SVC(kernel = core, C = 1000) # Применение встроенного метода опорных векторов. С - количество итераций для большей точности\n",
        "    svc.fit(X_train,Y_train)               # Обучение модели\n",
        "    # считаем точность(уравнение прямой) на основе предсказаний меток\n",
        "    rightness =  ((numpy.sum(svc.predict(X_test) == Y_test)) / Y_test.size) * 100\n",
        "    best_accuracy = numpy.append(best_accuracy, rightness) # заносим точности в массив\n",
        "    print(f\"При ядре {core} точность: {rightness: 4f}%\") #точность - до 4 знака после запятой\n",
        "    print(\" \")\n",
        "    print(f\"Лучший результат при ядре {Cores[numpy.argmax(best_accuracy)]} - {numpy.max(best_accuracy):.4f}\")\n",
        "   # print(\"-----------------------------------------------------------------------\")"
      ]
    },
    {
      "cell_type": "markdown",
      "metadata": {
        "id": "v_RLNJX8jHRQ"
      },
      "source": [
        "# **3**"
      ]
    },
    {
      "cell_type": "code",
      "execution_count": 15,
      "metadata": {
        "id": "ybnjOHUqjG7W"
      },
      "outputs": [],
      "source": [
        "from sklearn.linear_model import LogisticRegression\n",
        "import numpy # библиотека, которая поддерживает многомерные массивы и математические функции\n",
        "from sklearn import datasets # модуль, который содержит наборы данных Sklearn(мы с ними будем работать)\n",
        "import pandas #библиотека для анализа данных\n",
        "from sklearn.model_selection import train_test_split # импортируем из библиотеки  sklearn функцию train_test_split"
      ]
    },
    {
      "cell_type": "code",
      "execution_count": 16,
      "metadata": {
        "colab": {
          "base_uri": "https://localhost:8080/"
        },
        "id": "fjoTvGFIj0Fx",
        "outputId": "09babeab-6d64-4f18-e563-df4c2cddab62"
      },
      "outputs": [
        {
          "name": "stdout",
          "output_type": "stream",
          "text": [
            "Iris plants dataset - Набор данных о растениях ириса\n",
            "Wine recognition dataset - Набор данных для распознавания вин\n",
            "Breast cancer wisconsin (diagnostic) dataset - Набор данных по раку молочной железы в Висконсине (диагностический)\n",
            "Optical recognition of handwritten digits dataset - Оптическое распознавание набора данных рукописных цифр\n",
            "Датасет с моей фамилией\n",
            "~~~~~~~~~~~~~~~~~~~~~~~~~~~~~~~~~~~~~~~~~~~~~~~~~~~~~~~~~~~~~~~~~~~~~~~~~\n",
            "------------------------------------------------------------------------\n",
            "Датасет:  Breast cancer wisconsin (diagnostic) dataset\n",
            "------------------------------------------------------------------------\n",
            "При  lbfgs точность:  95.321637%\n",
            " \n",
            "Лучший результат при lbfgs - 95.3216\n",
            "При  liblinear точность:  95.906433%\n",
            " \n",
            "Лучший результат при liblinear - 95.9064\n",
            "При  newton-cg точность:  95.321637%\n",
            " \n",
            "Лучший результат при liblinear - 95.9064\n",
            "При  newton-cholesky точность:  95.321637%\n",
            " \n",
            "Лучший результат при liblinear - 95.9064\n",
            "При  sag точность:  93.567251%\n",
            " \n",
            "Лучший результат при liblinear - 95.9064\n",
            "При  saga точность:  93.567251%\n",
            " \n",
            "Лучший результат при liblinear - 95.9064\n",
            "------------------------------------------------------------------------\n",
            "Датасет:  Iris plants dataset\n",
            "------------------------------------------------------------------------\n",
            "При  lbfgs точность:  95.555556%\n",
            " \n",
            "Лучший результат при lbfgs - 95.5556\n",
            "При  liblinear точность:  93.333333%\n",
            " \n",
            "Лучший результат при lbfgs - 95.5556\n",
            "При  newton-cg точность:  95.555556%\n",
            " \n",
            "Лучший результат при lbfgs - 95.5556\n",
            "При  newton-cholesky точность:  93.333333%\n",
            " \n",
            "Лучший результат при lbfgs - 95.5556\n",
            "При  sag точность:  97.777778%\n",
            " \n",
            "Лучший результат при sag - 97.7778\n",
            "При  saga точность:  97.777778%\n",
            " \n",
            "Лучший результат при sag - 97.7778\n",
            "------------------------------------------------------------------------\n",
            "Датасет:  Wine recognition dataset\n",
            "------------------------------------------------------------------------\n",
            "При  lbfgs точность:  100.000000%\n",
            " \n",
            "Лучший результат при lbfgs - 100.0000\n",
            "При  liblinear точность:  98.148148%\n",
            " \n",
            "Лучший результат при lbfgs - 100.0000\n",
            "При  newton-cg точность:  100.000000%\n",
            " \n",
            "Лучший результат при lbfgs - 100.0000\n",
            "При  newton-cholesky точность:  94.444444%\n",
            " \n",
            "Лучший результат при lbfgs - 100.0000\n",
            "При  sag точность:  94.444444%\n",
            " \n",
            "Лучший результат при lbfgs - 100.0000\n",
            "При  saga точность:  92.592593%\n",
            " \n",
            "Лучший результат при lbfgs - 100.0000\n",
            "------------------------------------------------------------------------\n",
            "Датасет:  Optical recognition of handwritten digits dataset\n",
            "------------------------------------------------------------------------\n",
            "При  lbfgs точность:  96.111111%\n",
            " \n",
            "Лучший результат при lbfgs - 96.1111\n",
            "При  liblinear точность:  94.629630%\n",
            " \n",
            "Лучший результат при lbfgs - 96.1111\n",
            "При  newton-cg точность:  96.111111%\n",
            " \n",
            "Лучший результат при lbfgs - 96.1111\n",
            "При  newton-cholesky точность:  92.962963%\n",
            " \n",
            "Лучший результат при lbfgs - 96.1111\n"
          ]
        },
        {
          "name": "stderr",
          "output_type": "stream",
          "text": [
            "/usr/local/lib/python3.10/dist-packages/sklearn/linear_model/_glm/_newton_solver.py:491: LinAlgWarning: The inner solver of NewtonCholeskySolver stumbled upon a singular or very ill-conditioned Hessian matrix at iteration #14. It will now resort to lbfgs instead.\n",
            "Further options are to use another solver or to avoid such situation in the first place. Possible remedies are removing collinear features of X or increasing the penalization strengths.\n",
            "The original Linear Algebra message was:\n",
            "Matrix is singular.\n",
            "  warnings.warn(\n"
          ]
        },
        {
          "name": "stdout",
          "output_type": "stream",
          "text": [
            "При  sag точность:  96.111111%\n",
            " \n",
            "Лучший результат при lbfgs - 96.1111\n",
            "При  saga точность:  95.925926%\n",
            " \n",
            "Лучший результат при lbfgs - 96.1111\n",
            "------------------------------------------------------------------------\n",
            "Датасет:  Датасет с моей фамилией\n",
            "------------------------------------------------------------------------\n",
            "При  lbfgs точность:  96.666667%\n",
            " \n",
            "Лучший результат при lbfgs - 96.6667\n",
            "При  liblinear точность:  96.666667%\n",
            " \n",
            "Лучший результат при lbfgs - 96.6667\n",
            "При  newton-cg точность:  96.666667%\n",
            " \n",
            "Лучший результат при lbfgs - 96.6667\n",
            "При  newton-cholesky точность:  96.666667%\n",
            " \n",
            "Лучший результат при lbfgs - 96.6667\n",
            "При  sag точность:  96.666667%\n",
            " \n",
            "Лучший результат при lbfgs - 96.6667\n",
            "При  saga точность:  96.666667%\n",
            " \n",
            "Лучший результат при lbfgs - 96.6667\n"
          ]
        }
      ],
      "source": [
        "# Чтение датасета с моей фамилией\n",
        "my_datasetname = pandas.read_csv(\"Rubashevskaya.csv\")\n",
        "my_datasetname = my_datasetname.drop(columns = my_datasetname.columns[0])\n",
        "dict_data = {'data': my_datasetname[[my_datasetname.columns[0], my_datasetname.columns[1]]].to_numpy(),\n",
        "             'target': my_datasetname[my_datasetname.columns[2]].to_numpy(dtype = numpy.int32),\n",
        "             'DESCR': '\\n\\nДатасет с моей фамилией'}\n",
        "# Загрузка датасетов\n",
        "data_arr = [datasets.load_breast_cancer(), datasets.load_iris(), datasets.load_wine(), datasets.load_digits(), dict_data]\n",
        "print(\"Iris plants dataset - Набор данных о растениях ириса\\nWine recognition dataset - Набор данных для распознавания вин\\nBreast cancer wisconsin (diagnostic) dataset - Набор данных по раку молочной железы в Висконсине (диагностический)\\nOptical recognition of handwritten digits dataset - Оптическое распознавание набора данных рукописных цифр\\nДатасет с моей фамилией\")\n",
        "print(\"~~~~~~~~~~~~~~~~~~~~~~~~~~~~~~~~~~~~~~~~~~~~~~~~~~~~~~~~~~~~~~~~~~~~~~~~~\")\n",
        "Solvers = [\"lbfgs\",\"liblinear\",\"newton-cg\",\"newton-cholesky\",\"sag\",\"saga\"] # Названия solver'ов\n",
        "for dataset in data_arr:                     # Цикл прогона по 4 датасетам\n",
        " # data = dataset() # Присвоение переменной data набор данных определенного датасета\n",
        "  print(\"------------------------------------------------------------------------\")\n",
        "  print(\"Датасет: \", dataset['DESCR'].splitlines()[2])\n",
        "  # атрибут DESCR - это строковая переменная или объект, которая, предположительно, содержит несколько строк текста.\n",
        "  #.splitlines() - это метод строкового объекта, который разбивает строку на список строк, используя символы новой строки (перевода строки) в качестве разделителя.\n",
        "  # [2] - это индексация списка, которая выбирает третью строку (от 0, поэтому [2] выберет третий элемент).\n",
        "  print(\"------------------------------------------------------------------------\")\n",
        "  best_accuracy = numpy.array([])\n",
        "  # разделим данные с помощью train_test_split\n",
        "  # train - тренировка, test - проверка; 70% - тренировка (уйдет на обучение машины), оставшиеся 30% - тестирование (проверка результатов обучения машины)\n",
        "  X_train, X_test, Y_train, Y_test = train_test_split(dataset['data'], dataset['target'], train_size = 0.7)\n",
        "\n",
        "  for solve in Solvers:\n",
        "    svc = LogisticRegression(max_iter = 20000, solver = solve, C = 1000)\n",
        "    svc.fit(X_train,Y_train) # Обучение модели по тренировочным значениям\n",
        "    rightness =  ((numpy.sum(svc.predict(X_test) == Y_test)) / Y_test.size) * 100 #считаем точность\n",
        "    best_accuracy = numpy.append(best_accuracy, rightness)\n",
        "    print(f\"При  {solve} точность: {rightness: 4f}%\")\n",
        "    print(\" \")\n",
        "    print(f\"Лучший результат при {Solvers[numpy.argmax(best_accuracy)]} - {numpy.max(best_accuracy):.4f}\")"
      ]
    }
  ],
  "metadata": {
    "colab": {
      "provenance": []
    },
    "kernelspec": {
      "display_name": "Python 3",
      "name": "python3"
    },
    "language_info": {
      "name": "python"
    }
  },
  "nbformat": 4,
  "nbformat_minor": 0
}
